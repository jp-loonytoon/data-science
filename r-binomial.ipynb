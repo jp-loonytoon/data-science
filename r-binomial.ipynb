{
 "cells": [
  {
   "cell_type": "markdown",
   "metadata": {},
   "source": [
    "# Bayesian Statistics"
   ]
  },
  {
   "cell_type": "markdown",
   "metadata": {},
   "source": [
    "## Indicator Functions\n",
    "An indicator function, sometimes known as a Heaviside or unit-step function, takes a value evaluates it against some condition, returning either 1 (the condition is true), or 0 (the condition if false):\n",
    "\n",
    "$$\n",
    "I_{\\{x>3\\}}(x) =\n",
    "    \\begin{cases}\n",
    "        0 & \\text{if } x \\leq 3 \\\\\n",
    "        1 & \\text{if } x > 3\n",
    "    \\end{cases}\n",
    "$$"
   ]
  },
  {
   "cell_type": "code",
   "execution_count": 19,
   "metadata": {},
   "outputs": [
    {
     "data": {
      "text/html": [
       "<ol class=list-inline>\n",
       "\t<li>3</li>\n",
       "\t<li>3</li>\n",
       "\t<li>6</li>\n",
       "\t<li>6</li>\n",
       "\t<li>3</li>\n",
       "\t<li>3</li>\n",
       "\t<li>4</li>\n",
       "\t<li>4</li>\n",
       "\t<li>3</li>\n",
       "\t<li>1</li>\n",
       "\t<li>5</li>\n",
       "\t<li>3</li>\n",
       "</ol>\n"
      ],
      "text/latex": [
       "\\begin{enumerate*}\n",
       "\\item 3\n",
       "\\item 3\n",
       "\\item 6\n",
       "\\item 6\n",
       "\\item 3\n",
       "\\item 3\n",
       "\\item 4\n",
       "\\item 4\n",
       "\\item 3\n",
       "\\item 1\n",
       "\\item 5\n",
       "\\item 3\n",
       "\\end{enumerate*}\n"
      ],
      "text/markdown": [
       "1. 3\n",
       "2. 3\n",
       "3. 6\n",
       "4. 6\n",
       "5. 3\n",
       "6. 3\n",
       "7. 4\n",
       "8. 4\n",
       "9. 3\n",
       "10. 1\n",
       "11. 5\n",
       "12. 3\n",
       "\n",
       "\n"
      ],
      "text/plain": [
       " [1] 3 3 6 6 3 3 4 4 3 1 5 3"
      ]
     },
     "metadata": {},
     "output_type": "display_data"
    },
    {
     "data": {
      "text/html": [
       "<ol class=list-inline>\n",
       "\t<li>0</li>\n",
       "\t<li>0</li>\n",
       "\t<li>1</li>\n",
       "\t<li>1</li>\n",
       "\t<li>0</li>\n",
       "\t<li>0</li>\n",
       "\t<li>1</li>\n",
       "\t<li>1</li>\n",
       "\t<li>0</li>\n",
       "\t<li>0</li>\n",
       "\t<li>1</li>\n",
       "\t<li>0</li>\n",
       "</ol>\n"
      ],
      "text/latex": [
       "\\begin{enumerate*}\n",
       "\\item 0\n",
       "\\item 0\n",
       "\\item 1\n",
       "\\item 1\n",
       "\\item 0\n",
       "\\item 0\n",
       "\\item 1\n",
       "\\item 1\n",
       "\\item 0\n",
       "\\item 0\n",
       "\\item 1\n",
       "\\item 0\n",
       "\\end{enumerate*}\n"
      ],
      "text/markdown": [
       "1. 0\n",
       "2. 0\n",
       "3. 1\n",
       "4. 1\n",
       "5. 0\n",
       "6. 0\n",
       "7. 1\n",
       "8. 1\n",
       "9. 0\n",
       "10. 0\n",
       "11. 1\n",
       "12. 0\n",
       "\n",
       "\n"
      ],
      "text/plain": [
       " [1] 0 0 1 1 0 0 1 1 0 0 1 0"
      ]
     },
     "metadata": {},
     "output_type": "display_data"
    },
    {
     "data": {
      "text/html": [
       "3.66666666666667"
      ],
      "text/latex": [
       "3.66666666666667"
      ],
      "text/markdown": [
       "3.66666666666667"
      ],
      "text/plain": [
       "[1] 3.666667"
      ]
     },
     "metadata": {},
     "output_type": "display_data"
    },
    {
     "data": {
      "text/html": [
       "3"
      ],
      "text/latex": [
       "3"
      ],
      "text/markdown": [
       "3"
      ],
      "text/plain": [
       "[1] 3"
      ]
     },
     "metadata": {},
     "output_type": "display_data"
    },
    {
     "data": {
      "text/html": [
       "2.06060606060606"
      ],
      "text/latex": [
       "2.06060606060606"
      ],
      "text/markdown": [
       "2.06060606060606"
      ],
      "text/plain": [
       "[1] 2.060606"
      ]
     },
     "metadata": {},
     "output_type": "display_data"
    },
    {
     "data": {
      "text/html": [
       "1.43548112513055"
      ],
      "text/latex": [
       "1.43548112513055"
      ],
      "text/markdown": [
       "1.43548112513055"
      ],
      "text/plain": [
       "[1] 1.435481"
      ]
     },
     "metadata": {},
     "output_type": "display_data"
    }
   ],
   "source": [
    "# an example indicator function\n",
    "Ia <- function(x) {\n",
    "    if (x <= 3) 0\n",
    "    else 1\n",
    "}\n",
    "\n",
    "# here we create a randomised vector of 12 dice rolls:\n",
    "xs <- sample(6, 12, replace=TRUE)\n",
    "xs\n",
    "\n",
    "# now we apply the indicator function to see which ones \n",
    "# are greater than 3:\n",
    "gt3 <- sapply(xs, Ia)\n",
    "gt3\n",
    "\n",
    "# summary info\n",
    "mean(xs)\n",
    "median(xs)\n",
    "var(xs)\n",
    "sd(xs)"
   ]
  },
  {
   "cell_type": "markdown",
   "metadata": {},
   "source": [
    "Indicator functions can be strung together as part of a larger function. In this example, what would be the result of $g(x)$ where $x=18$?\n",
    "\n",
    "$$g(x) = ( 2000 \\times I_{\\{x<2\\}}(x) ) + ( 200x \\times I_{\\{x=5\\}}(x) ) + ( 2x \\times I_{\\{x>10\\}}(x) )$$\n",
    "\n",
    "Here, the first indicator function evaluates to 0, since 16 is greater than 2.\n",
    "The second indicator function evaluates to 0 also.\n",
    "The third indicator function evaluates to 2x16 (since 16 is greater than 10), so the final result is 32."
   ]
  },
  {
   "cell_type": "markdown",
   "metadata": {},
   "source": [
    "## Bernoulli Distributions\n",
    "The simplest way to think about a Bernoulli distribuion is as a function that simulates a coin toss. By default the coin is a fair one (the probability of heads is 0.5). I you want to make it an unfair coin you can vary the probability.\n",
    "We say that a random variable X follows a Bernoulli distribution with probability p:\n",
    "\n",
    "$$X \\sim B(p)$$"
   ]
  },
  {
   "cell_type": "code",
   "execution_count": 20,
   "metadata": {},
   "outputs": [],
   "source": [
    "# Here's two functions, one that shows a simple Bernoulli function \n",
    "# that returns '1' (success) or '0' failure:\n",
    "B <- function(p=0.5) {\n",
    "    probs <- c(p, 1-p)\n",
    "    sample(c(1, 0), 1, replace = TRUE, probs) \n",
    "}\n",
    "\n",
    "# And a similar one that simulates the toss of a coin:\n",
    "coinFlip <- function(p=0.5) {\n",
    "    probs <- c(p, 1-p)\n",
    "    sample(c('H', 'T'), 1, replace = TRUE, probs)\n",
    "}"
   ]
  },
  {
   "cell_type": "markdown",
   "metadata": {},
   "source": [
    "In fact a Bernoulli function is written like this:\n",
    "\n",
    "$$f(x|p) = p^{x}(1-p)^{1-x}$$\n",
    "\n",
    "which is equivalent to the indicator function:\n",
    "\n",
    "$$I_{\\{x \\in \\{0,1\\}\\}}(x)$$"
   ]
  },
  {
   "cell_type": "code",
   "execution_count": 21,
   "metadata": {},
   "outputs": [
    {
     "data": {
      "text/html": [
       "0"
      ],
      "text/latex": [
       "0"
      ],
      "text/markdown": [
       "0"
      ],
      "text/plain": [
       "[1] 0"
      ]
     },
     "metadata": {},
     "output_type": "display_data"
    },
    {
     "data": {
      "text/html": [
       "'H'"
      ],
      "text/latex": [
       "'H'"
      ],
      "text/markdown": [
       "'H'"
      ],
      "text/plain": [
       "[1] \"H\""
      ]
     },
     "metadata": {},
     "output_type": "display_data"
    }
   ],
   "source": [
    "B()\n",
    "\n",
    "# simulate a biased coin\n",
    "# should return 'H' in 55% of the time\n",
    "coinFlip(0.55)"
   ]
  },
  {
   "cell_type": "markdown",
   "metadata": {},
   "source": [
    "## Binomial Distributions\n",
    "The generalisation of the Bernoulli distribution, when we have $n$ repeated Bernoullis, is the binomial distribution.\n",
    "For a distribution to be binomial, it must:\n",
    "\n",
    "* Have two potential outcomes per trial (success or failure)\n",
    "* The probability of success (p) must remain the same for each trial\n",
    "* The number of trials (n) is fixed\n",
    "* Each trial is independent"
   ]
  },
  {
   "cell_type": "code",
   "execution_count": 22,
   "metadata": {},
   "outputs": [
    {
     "data": {
      "text/html": [
       "<ol class=list-inline>\n",
       "\t<li>'T'</li>\n",
       "\t<li>'T'</li>\n",
       "\t<li>'T'</li>\n",
       "\t<li>'H'</li>\n",
       "\t<li>'T'</li>\n",
       "</ol>\n"
      ],
      "text/latex": [
       "\\begin{enumerate*}\n",
       "\\item 'T'\n",
       "\\item 'T'\n",
       "\\item 'T'\n",
       "\\item 'H'\n",
       "\\item 'T'\n",
       "\\end{enumerate*}\n"
      ],
      "text/markdown": [
       "1. 'T'\n",
       "2. 'T'\n",
       "3. 'T'\n",
       "4. 'H'\n",
       "5. 'T'\n",
       "\n",
       "\n"
      ],
      "text/plain": [
       "[1] \"T\" \"T\" \"T\" \"H\" \"T\""
      ]
     },
     "metadata": {},
     "output_type": "display_data"
    }
   ],
   "source": [
    "seriesOfFlips <- function(n) {\n",
    "    flips <- character(n)\n",
    "    for (c in seq_along(flips)){\n",
    "        flips[c] <- coinFlip()\n",
    "    }\n",
    "    return(flips)\n",
    "}\n",
    "\n",
    "# Run a series of 5 flips, and repeat a few times...\n",
    "seriesOfFlips(5)"
   ]
  },
  {
   "cell_type": "markdown",
   "metadata": {},
   "source": [
    "With the binomial distribution, we get the sum of n Bernoullis:\n",
    "\n",
    "$$X \\sim Bin(n, p)$$\n",
    "\n",
    "Which is written with a probability function of:\n",
    "\n",
    "$$f(x|p) = \\binom{n}{x}p^{x}(1-p)^{n-x}$$\n",
    "\n",
    "Alternatively it can be expressed in terms of probabilities, like this:\n",
    "\n",
    "$$P(X = x) = {^nC_x}p^x(1-p)^{n-x}$$\n",
    "\n",
    "The important thing to know here is that $\\binom{n}{x}$ and ${^nC_x}$ are equivalent, both mean '$n$ choose $x$'."
   ]
  },
  {
   "cell_type": "markdown",
   "metadata": {},
   "source": [
    "## Binomial Coefficients\n",
    "\n",
    "R has a function `choose` that allows you to find `k` from `n`. \n",
    "\n",
    "$$\\binom{n}{k} = \\frac{n!}{k!(n-k)!}$$\n",
    "\n",
    "*****\n",
    "\n",
    "For example to find the coeffient of choose 3 from 4:\n",
    "\n",
    "$$\\binom{4}{3}$$\n",
    "\n",
    "call the function like this:\n",
    "\n",
    "```r\n",
    "choose(4, 3)\n",
    "```"
   ]
  },
  {
   "cell_type": "code",
   "execution_count": 23,
   "metadata": {},
   "outputs": [
    {
     "data": {
      "text/html": [
       "4"
      ],
      "text/latex": [
       "4"
      ],
      "text/markdown": [
       "4"
      ],
      "text/plain": [
       "[1] 4"
      ]
     },
     "metadata": {},
     "output_type": "display_data"
    }
   ],
   "source": [
    "choose(4, 3)   # How many ways can we select 3 items from 4 items?"
   ]
  },
  {
   "cell_type": "code",
   "execution_count": 24,
   "metadata": {},
   "outputs": [
    {
     "data": {
      "text/html": [
       "10"
      ],
      "text/latex": [
       "10"
      ],
      "text/markdown": [
       "10"
      ],
      "text/plain": [
       "[1] 10"
      ]
     },
     "metadata": {},
     "output_type": "display_data"
    }
   ],
   "source": [
    "choose(5, 2)   # How many ways can we select 2 items from 5 items?"
   ]
  },
  {
   "cell_type": "code",
   "execution_count": 25,
   "metadata": {},
   "outputs": [],
   "source": [
    "# Probability Mass Function (PMF) for the Binomial distribition\n",
    "binomialPMF <- function(k, n, p=0.5) {\n",
    "    choose(n,k) * (p^k) * ((1-p)^(n-k))\n",
    "}"
   ]
  },
  {
   "cell_type": "code",
   "execution_count": 26,
   "metadata": {},
   "outputs": [
    {
     "data": {
      "text/html": [
       "0.24609375"
      ],
      "text/latex": [
       "0.24609375"
      ],
      "text/markdown": [
       "0.24609375"
      ],
      "text/plain": [
       "[1] 0.2460938"
      ]
     },
     "metadata": {},
     "output_type": "display_data"
    }
   ],
   "source": [
    "# the probability of flipping exactly 5 heads in 10 coin tosses is...\n",
    "binomialPMF(5, 10)"
   ]
  },
  {
   "cell_type": "code",
   "execution_count": 27,
   "metadata": {},
   "outputs": [
    {
     "data": {
      "text/html": [
       "0.147807035463618"
      ],
      "text/latex": [
       "0.147807035463618"
      ],
      "text/markdown": [
       "0.147807035463618"
      ],
      "text/plain": [
       "[1] 0.147807"
      ]
     },
     "metadata": {},
     "output_type": "display_data"
    }
   ],
   "source": [
    "# we know that 8% of men are colour blind\n",
    "# what is the probability that, of a sample of 10 men, exactly two are colour blind?\n",
    "\n",
    "p = 0.08\n",
    "n = 10\n",
    "k = 2\n",
    "\n",
    "binomialPMF(k, n, p)"
   ]
  },
  {
   "cell_type": "code",
   "execution_count": 28,
   "metadata": {},
   "outputs": [
    {
     "data": {
      "text/html": [
       "0.187882455147122"
      ],
      "text/latex": [
       "0.187882455147122"
      ],
      "text/markdown": [
       "0.187882455147122"
      ],
      "text/plain": [
       "[1] 0.1878825"
      ]
     },
     "metadata": {},
     "output_type": "display_data"
    }
   ],
   "source": [
    "# and what is the probability that at least 2 men are colour blind?\n",
    "# in other words P(2 >= X) for X Binomial(10, 0.08)\n",
    "sum(dbinom(2:11, 10, 0.08))"
   ]
  },
  {
   "cell_type": "code",
   "execution_count": 29,
   "metadata": {},
   "outputs": [
    {
     "data": {
      "text/html": [
       "0.631798382673304"
      ],
      "text/latex": [
       "0.631798382673304"
      ],
      "text/markdown": [
       "0.631798382673304"
      ],
      "text/plain": [
       "[1] 0.6317984"
      ]
     },
     "metadata": {},
     "output_type": "display_data"
    }
   ],
   "source": [
    "# Compute P(45 < X < 55) for X Binomial(100,0.5)\n",
    "sum(dbinom(46:54, 100, 0.5))"
   ]
  },
  {
   "cell_type": "code",
   "execution_count": 30,
   "metadata": {},
   "outputs": [
    {
     "data": {
      "text/html": [
       "0.352085043731777"
      ],
      "text/latex": [
       "0.352085043731777"
      ],
      "text/markdown": [
       "0.352085043731777"
      ],
      "text/plain": [
       "[1] 0.352085"
      ]
     },
     "metadata": {},
     "output_type": "display_data"
    },
    {
     "data": {
      "text/html": [
       "0.514513845254295"
      ],
      "text/latex": [
       "0.514513845254295"
      ],
      "text/markdown": [
       "0.514513845254295"
      ],
      "text/plain": [
       "[1] 0.5145138"
      ]
     },
     "metadata": {},
     "output_type": "display_data"
    }
   ],
   "source": [
    "# probability of pulling exactly one 'E. T. Jaynes' card from 100 cards\n",
    "binomialPMF(1, 100, 0.0072)\n",
    "\n",
    "# however, what we really want to know is the probability of getting one or more\n",
    "# we could sum up the PMFs for all values of k 1-100; an easier way in R is to use\n",
    "# the `pbinom` function\n",
    "pbinom(0, 100, 0.0072, lower.tail=FALSE)\n",
    "\n",
    "# setting the first argument to 0, we are looking at the probability of getting \n",
    "# one or more E. T. Jaynes cards. You need to set `lower.tail=FALSE` for this to\n",
    "# work out, as this  means we want values greater than the first argument."
   ]
  },
  {
   "cell_type": "markdown",
   "metadata": {},
   "source": [
    "## Mean, Variance and Standard Deviation of Binomials\n",
    "\n",
    "### Expected Value\n",
    "The Expected Value $E(X)$ of the binomial is the mean of its distribution, which is $n × p$:\n",
    "\n",
    "$$E(X) = np$$\n",
    "\n",
    "In our colour blind men example, the exepted number of colour blind men in a sample of 100 men would be:\n",
    "\n",
    "$$E(X) = 100 \\times 0.08 = 8$$\n",
    "\n",
    "### Variance\n",
    "The variance is:\n",
    "\n",
    "$$V(X) = np(1-p)$$\n",
    "\n",
    "Or, in our example:\n",
    "\n",
    "$$V(X) = 100 \\times 0.08 \\times 0.92 = 7.36$$\n",
    "\n",
    "### Standard Deviation\n",
    "From the variance, we can calculate the standard deviation as:\n",
    "\n",
    "$$SD(X) = \\sqrt {V(X)}$$\n",
    "\n",
    "Which, for our example is $\\sqrt {7.36}$, or 2.71."
   ]
  },
  {
   "cell_type": "markdown",
   "metadata": {},
   "source": [
    "## Exercises\n",
    "\n",
    "1. What are the parameters of the binomial distribution for the probability of rolling either a 1 or a 20 on a 20-sided die, if we roll the die 12 times?\n"
   ]
  },
  {
   "cell_type": "code",
   "execution_count": 36,
   "metadata": {},
   "outputs": [
    {
     "data": {
      "text/html": [
       "0.376572715308"
      ],
      "text/latex": [
       "0.376572715308"
      ],
      "text/markdown": [
       "0.376572715308"
      ],
      "text/plain": [
       "[1] 0.3765727"
      ]
     },
     "metadata": {},
     "output_type": "display_data"
    }
   ],
   "source": [
    "p <- 0.05 + 0.05      # probability of rolling a 1 or 20 is 0.1\n",
    "binomialPMF(1, 12, p)"
   ]
  },
  {
   "cell_type": "markdown",
   "metadata": {},
   "source": [
    "2. There are four aces in a deck of 52 cards. If you pull a card, return the card, then reshuffle and pull a card again, how many ways can you pull just one ace in five pulls?"
   ]
  },
  {
   "cell_type": "code",
   "execution_count": 32,
   "metadata": {},
   "outputs": [
    {
     "data": {
      "text/html": [
       "5"
      ],
      "text/latex": [
       "5"
      ],
      "text/markdown": [
       "5"
      ],
      "text/plain": [
       "[1] 5"
      ]
     },
     "metadata": {},
     "output_type": "display_data"
    },
    {
     "name": "stdout",
     "output_type": "stream",
     "text": [
      "[1] 0.0004548553\n"
     ]
    }
   ],
   "source": [
    "choose(5, 1)\n",
    "\n",
    "# Axxxx\n",
    "# xAxxx\n",
    "# xxAxx\n",
    "# xxxAx\n",
    "# xxxxA\n",
    "\n",
    "# probability of pulling 5 aces in 10 pulls is:\n",
    "p <- 4/52\n",
    "k <- 5\n",
    "n <- 10\n",
    "\n",
    "p5Aces <- binomialPMF(k, n, p)\n",
    "\n",
    "print(p5Aces)"
   ]
  },
  {
   "cell_type": "markdown",
   "metadata": {},
   "source": [
    "3. When you’re searching for a new job, it’s always helpful to have more than one offer on the table so you can use it in negotiations. If you have a 1/5 probability of receiving a job offer when you interview, and you interview with seven companies in a month, what is the probability you’ll have at least two competing offers by the end of that month?"
   ]
  },
  {
   "cell_type": "code",
   "execution_count": 33,
   "metadata": {},
   "outputs": [
    {
     "data": {
      "text/html": [
       "0.2752512"
      ],
      "text/latex": [
       "0.2752512"
      ],
      "text/markdown": [
       "0.2752512"
      ],
      "text/plain": [
       "[1] 0.2752512"
      ]
     },
     "metadata": {},
     "output_type": "display_data"
    }
   ],
   "source": [
    "p <- 0.20\n",
    "n <- 7  # number of interviews\n",
    "k <- 2  # number of offers\n",
    "\n",
    "# this is the probability of receiving just one offer:\n",
    "binomialPMF(k, n, p)"
   ]
  },
  {
   "cell_type": "code",
   "execution_count": 34,
   "metadata": {},
   "outputs": [
    {
     "data": {
      "text/html": [
       "0.4232832"
      ],
      "text/latex": [
       "0.4232832"
      ],
      "text/markdown": [
       "0.4232832"
      ],
      "text/plain": [
       "[1] 0.4232832"
      ]
     },
     "metadata": {},
     "output_type": "display_data"
    }
   ],
   "source": [
    "# however, we want to find the probabilty of receiving at least one offer:\n",
    "pbinom(1,n,p,lower.tail = FALSE)"
   ]
  },
  {
   "cell_type": "markdown",
   "metadata": {},
   "source": [
    "4. You get a bunch of recruiter emails and find out you have 25 interviews lined up in the next month. Unfortunately, you know this will leave you exhausted, and the probability of getting an offer will drop to 1/10 if you’re tired. You really don’t want to go on this many interviews unless you are at least twice as likely to get at least two competing offers. Are you more likely to get at least two offers if you go for 25 interviews, or stick to just 7?"
   ]
  },
  {
   "cell_type": "code",
   "execution_count": 35,
   "metadata": {},
   "outputs": [
    {
     "name": "stdout",
     "output_type": "stream",
     "text": [
      "[1] 0.7287941\n",
      "[1] 0.4232832\n",
      "[1] \"Go for 25 interviews?\"\n",
      "[1] TRUE\n"
     ]
    },
    {
     "data": {
      "text/html": [
       "1.72176475120825"
      ],
      "text/latex": [
       "1.72176475120825"
      ],
      "text/markdown": [
       "1.72176475120825"
      ],
      "text/plain": [
       "[1] 1.721765"
      ]
     },
     "metadata": {},
     "output_type": "display_data"
    }
   ],
   "source": [
    "n <- 25  # number of interviews\n",
    "p <- 0.10\n",
    "k <- 2\n",
    "p.two.or.more.25 <- pbinom(1, n, 1/10, lower.tail = FALSE)\n",
    "\n",
    "n <- 7   # now just decide on 7 interviews\n",
    "p.two.or.more.7 <- pbinom(1, n, 1/5, lower.tail = FALSE)\n",
    "\n",
    "print(p.two.or.more.25)\n",
    "print(p.two.or.more.7)\n",
    "print(\"Go for 25 interviews?\")\n",
    "print(p.two.or.more.25 > p.two.or.more.7)\n",
    "\n",
    "p.two.or.more.25/p.two.or.more.7"
   ]
  },
  {
   "cell_type": "code",
   "execution_count": null,
   "metadata": {},
   "outputs": [],
   "source": []
  },
  {
   "cell_type": "code",
   "execution_count": null,
   "metadata": {},
   "outputs": [],
   "source": []
  }
 ],
 "metadata": {
  "kernelspec": {
   "display_name": "R",
   "language": "R",
   "name": "ir"
  },
  "language_info": {
   "codemirror_mode": "r",
   "file_extension": ".r",
   "mimetype": "text/x-r-source",
   "name": "R",
   "pygments_lexer": "r",
   "version": "3.6.0"
  }
 },
 "nbformat": 4,
 "nbformat_minor": 2
}
